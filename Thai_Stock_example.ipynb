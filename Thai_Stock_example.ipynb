{
  "nbformat": 4,
  "nbformat_minor": 0,
  "metadata": {
    "colab": {
      "name": "Thai_Stock_example.ipynb",
      "provenance": [],
      "authorship_tag": "ABX9TyMfk05j5Pnvz4V6OxJp38yB",
      "include_colab_link": true
    },
    "kernelspec": {
      "name": "python3",
      "display_name": "Python 3"
    }
  },
  "cells": [
    {
      "cell_type": "markdown",
      "metadata": {
        "id": "view-in-github",
        "colab_type": "text"
      },
      "source": [
        "<a href=\"https://colab.research.google.com/github/JK-Pair/Stock_analysis_project/blob/master/Thai_Stock_example.ipynb\" target=\"_parent\"><img src=\"https://colab.research.google.com/assets/colab-badge.svg\" alt=\"Open In Colab\"/></a>"
      ]
    },
    {
      "cell_type": "code",
      "metadata": {
        "id": "s_-qMp8A9feY",
        "colab_type": "code",
        "colab": {
          "base_uri": "https://localhost:8080/",
          "height": 221
        },
        "outputId": "eaf1152e-0b66-411c-daba-ba621b968ee3"
      },
      "source": [
        "!pip install pandas_datareader"
      ],
      "execution_count": null,
      "outputs": [
        {
          "output_type": "stream",
          "text": [
            "Requirement already satisfied: pandas_datareader in /usr/local/lib/python3.6/dist-packages (0.8.1)\n",
            "Requirement already satisfied: pandas>=0.21 in /usr/local/lib/python3.6/dist-packages (from pandas_datareader) (1.0.4)\n",
            "Requirement already satisfied: requests>=2.3.0 in /usr/local/lib/python3.6/dist-packages (from pandas_datareader) (2.23.0)\n",
            "Requirement already satisfied: lxml in /usr/local/lib/python3.6/dist-packages (from pandas_datareader) (4.2.6)\n",
            "Requirement already satisfied: numpy>=1.13.3 in /usr/local/lib/python3.6/dist-packages (from pandas>=0.21->pandas_datareader) (1.18.5)\n",
            "Requirement already satisfied: python-dateutil>=2.6.1 in /usr/local/lib/python3.6/dist-packages (from pandas>=0.21->pandas_datareader) (2.8.1)\n",
            "Requirement already satisfied: pytz>=2017.2 in /usr/local/lib/python3.6/dist-packages (from pandas>=0.21->pandas_datareader) (2018.9)\n",
            "Requirement already satisfied: certifi>=2017.4.17 in /usr/local/lib/python3.6/dist-packages (from requests>=2.3.0->pandas_datareader) (2020.4.5.2)\n",
            "Requirement already satisfied: urllib3!=1.25.0,!=1.25.1,<1.26,>=1.21.1 in /usr/local/lib/python3.6/dist-packages (from requests>=2.3.0->pandas_datareader) (1.24.3)\n",
            "Requirement already satisfied: idna<3,>=2.5 in /usr/local/lib/python3.6/dist-packages (from requests>=2.3.0->pandas_datareader) (2.9)\n",
            "Requirement already satisfied: chardet<4,>=3.0.2 in /usr/local/lib/python3.6/dist-packages (from requests>=2.3.0->pandas_datareader) (3.0.4)\n",
            "Requirement already satisfied: six>=1.5 in /usr/local/lib/python3.6/dist-packages (from python-dateutil>=2.6.1->pandas>=0.21->pandas_datareader) (1.12.0)\n"
          ],
          "name": "stdout"
        }
      ]
    },
    {
      "cell_type": "code",
      "metadata": {
        "id": "xY9WDd5zA92T",
        "colab_type": "code",
        "colab": {
          "base_uri": "https://localhost:8080/",
          "height": 17
        },
        "outputId": "e364d384-e772-459a-abcd-f6a579183f88"
      },
      "source": [
        "import os, sys\n",
        "import numpy as np\n",
        "import pandas as pd\n",
        "#pd.core.common.is_list_like = pd.api.types.is_list_like\n",
        "\n",
        "from pandas_datareader import data as pdr\n",
        "from tqdm import tqdm, trange\n",
        "\n",
        "import matplotlib.pyplot as plt\n",
        "import pandas as pd\n",
        "from IPython.core.display import display, HTML\n",
        "from datetime import date\n",
        "\n",
        "display(HTML(\"<style>.container { width:90% !important; }</style>\"))\n",
        "pd.options.display.max_columns = 999\n",
        "pd.options.display.max_rows = 999"
      ],
      "execution_count": 151,
      "outputs": [
        {
          "output_type": "display_data",
          "data": {
            "text/html": [
              "<style>.container { width:90% !important; }</style>"
            ],
            "text/plain": [
              "<IPython.core.display.HTML object>"
            ]
          },
          "metadata": {
            "tags": []
          }
        }
      ]
    },
    {
      "cell_type": "code",
      "metadata": {
        "id": "67oJOnJ-Dc8C",
        "colab_type": "code",
        "colab": {}
      },
      "source": [
        "stock_list =  ['KBANK', 'AOT'] # \"AOT\", \"ICHI\", \"CPALL\", \"CPF\", \"ASIMAR\", \"AAV\", \"AU\", 'SCB', 'BBL', 'KTB', 'AOT', 'PTT'\n",
        "start_date = \"2020-05-19\" \n",
        "end_date = date.today().strftime(\"%Y-%m-%d\")"
      ],
      "execution_count": 166,
      "outputs": []
    },
    {
      "cell_type": "code",
      "metadata": {
        "id": "mwavqq1kDpHz",
        "colab_type": "code",
        "colab": {
          "base_uri": "https://localhost:8080/",
          "height": 34
        },
        "outputId": "a77cc86d-4a15-4047-b37d-49953e3aa3eb"
      },
      "source": [
        "data = {}\n",
        "for quote in tqdm(stock_list):\n",
        "    try:        \n",
        "        data[quote] = pdr.get_data_yahoo('{}.BK'.format(quote), start=start_date, end=end_date)        \n",
        "    except:\n",
        "        print(\"Error:\", sys.exc_info()[0])\n",
        "        print(\"Description:\", sys.exc_info()[1]) \n",
        "# Cloumns head = High, Low, Open, Close, Volume, Adj Close"
      ],
      "execution_count": 167,
      "outputs": [
        {
          "output_type": "stream",
          "text": [
            "100%|██████████| 2/2 [00:00<00:00,  3.67it/s]\n"
          ],
          "name": "stderr"
        }
      ]
    },
    {
      "cell_type": "code",
      "metadata": {
        "id": "gDC45ObEDr8l",
        "colab_type": "code",
        "colab": {
          "base_uri": "https://localhost:8080/",
          "height": 442
        },
        "outputId": "770579f6-4ed2-4741-b50d-37a04b777235"
      },
      "source": [
        "print(\"Show all stocks in the list\", list(data.keys()))\n",
        "[df.head(10) for key, df in data.items()]"
      ],
      "execution_count": 168,
      "outputs": [
        {
          "output_type": "stream",
          "text": [
            "Show all stocks in the list ['KBANK', 'AOT']\n"
          ],
          "name": "stdout"
        },
        {
          "output_type": "execute_result",
          "data": {
            "text/plain": [
              "[             High    Low   Open  Close    Volume  Adj Close\n",
              " Date                                                       \n",
              " 2020-05-19  87.75  84.00  84.25  87.00  26622000      87.00\n",
              " 2020-05-20  88.50  87.00  88.00  88.00  16666600      88.00\n",
              " 2020-05-21  88.50  86.75  88.50  87.25  12975400      87.25\n",
              " 2020-05-22  86.75  84.75  86.75  85.50  12036200      85.50\n",
              " 2020-05-25  87.50  86.00  86.00  87.00   5999300      87.00\n",
              " 2020-05-26  89.25  87.50  87.75  88.25  13289000      88.25\n",
              " 2020-05-27  91.75  89.25  89.25  90.50  26095900      90.50\n",
              " 2020-05-28  96.25  94.25  94.25  96.00  38821500      96.00\n",
              " 2020-05-29  96.00  94.00  95.00  96.00  21773100      96.00\n",
              " 2020-06-01  99.50  96.75  97.00  97.75  20529200      97.75,\n",
              "              High    Low   Open  Close    Volume  Adj Close\n",
              " Date                                                       \n",
              " 2020-05-19  60.75  59.75  60.50  60.00  29824400      60.00\n",
              " 2020-05-20  60.25  59.00  60.00  59.50  17100500      59.50\n",
              " 2020-05-21  59.50  58.25  59.25  58.75  29165000      58.75\n",
              " 2020-05-22  58.50  57.00  58.25  57.25  31839400      57.25\n",
              " 2020-05-25  58.25  57.00  57.00  58.00  11576600      58.00\n",
              " 2020-05-26  60.00  58.50  59.00  59.25  24640600      59.25\n",
              " 2020-05-27  61.75  59.25  59.25  61.50  58719600      61.50\n",
              " 2020-05-28  62.50  61.25  62.00  61.25  42225600      61.25\n",
              " 2020-05-29  62.00  60.50  60.75  62.00  31922800      62.00\n",
              " 2020-06-01  63.00  61.75  62.50  61.75  29840800      61.75]"
            ]
          },
          "metadata": {
            "tags": []
          },
          "execution_count": 168
        }
      ]
    },
    {
      "cell_type": "code",
      "metadata": {
        "id": "do6OLVxoEH79",
        "colab_type": "code",
        "colab": {
          "base_uri": "https://localhost:8080/",
          "height": 602
        },
        "outputId": "a7c45ba8-b4d3-4343-fbe1-6ff1fa1b7902"
      },
      "source": [
        "[ df.plot(y='Adj Close', label='Price', style='-b').set_title(key)  for key, df in data.items()]"
      ],
      "execution_count": 169,
      "outputs": [
        {
          "output_type": "execute_result",
          "data": {
            "text/plain": [
              "[Text(0.5, 1.0, 'KBANK'), Text(0.5, 1.0, 'AOT')]"
            ]
          },
          "metadata": {
            "tags": []
          },
          "execution_count": 169
        },
        {
          "output_type": "display_data",
          "data": {
            "image/png": "[encoded data removed]",
            "text/plain": [
              "<Figure size 432x288 with 1 Axes>"
            ]
          },
          "metadata": {
            "tags": [],
            "needs_background": "light"
          }
        },
        {
          "output_type": "display_data",
          "data": {
            "image/png": "[encoded data removed]",
            "text/plain": [
              "<Figure size 432x288 with 1 Axes>"
            ]
          },
          "metadata": {
            "tags": [],
            "needs_background": "light"
          }
        }
      ]
    },
    {
      "cell_type": "code",
      "metadata": {
        "id": "6GNQq2v8ZoqE",
        "colab_type": "code",
        "colab": {
          "base_uri": "https://localhost:8080/",
          "height": 272
        },
        "outputId": "6cf507cd-859f-4df6-eb53-64e86c6626ca"
      },
      "source": [
        "!pip install https://github.com/matplotlib/mpl_finance/archive/master.zip"
      ],
      "execution_count": 170,
      "outputs": [
        {
          "output_type": "stream",
          "text": [
            "Collecting https://github.com/matplotlib/mpl_finance/archive/master.zip\n",
            "  Using cached https://github.com/matplotlib/mpl_finance/archive/master.zip\n",
            "Requirement already satisfied (use --upgrade to upgrade): mpl-finance==0.10.1 from https://github.com/matplotlib/mpl_finance/archive/master.zip in /usr/local/lib/python3.6/dist-packages\n",
            "Requirement already satisfied: matplotlib in /usr/local/lib/python3.6/dist-packages (from mpl-finance==0.10.1) (3.2.1)\n",
            "Requirement already satisfied: pyparsing!=2.0.4,!=2.1.2,!=2.1.6,>=2.0.1 in /usr/local/lib/python3.6/dist-packages (from matplotlib->mpl-finance==0.10.1) (2.4.7)\n",
            "Requirement already satisfied: cycler>=0.10 in /usr/local/lib/python3.6/dist-packages (from matplotlib->mpl-finance==0.10.1) (0.10.0)\n",
            "Requirement already satisfied: python-dateutil>=2.1 in /usr/local/lib/python3.6/dist-packages (from matplotlib->mpl-finance==0.10.1) (2.8.1)\n",
            "Requirement already satisfied: numpy>=1.11 in /usr/local/lib/python3.6/dist-packages (from matplotlib->mpl-finance==0.10.1) (1.18.5)\n",
            "Requirement already satisfied: kiwisolver>=1.0.1 in /usr/local/lib/python3.6/dist-packages (from matplotlib->mpl-finance==0.10.1) (1.2.0)\n",
            "Requirement already satisfied: six in /usr/local/lib/python3.6/dist-packages (from cycler>=0.10->matplotlib->mpl-finance==0.10.1) (1.12.0)\n",
            "Building wheels for collected packages: mpl-finance\n",
            "  Building wheel for mpl-finance (setup.py) ... \u001b[?25l\u001b[?25hdone\n",
            "  Created wheel for mpl-finance: filename=mpl_finance-0.10.1-cp36-none-any.whl size=8423 sha256=9d70760a850186149ffda526a956610e16fbb27b38a79bb6d9bfe40942d01330\n",
            "  Stored in directory: /tmp/pip-ephem-wheel-cache-h_rl6iwy/wheels/8f/bf/8a/6c858b2a3be945c7b2d658fbf6ab797b451d686cbee8aa2679\n",
            "Successfully built mpl-finance\n"
          ],
          "name": "stdout"
        }
      ]
    },
    {
      "cell_type": "code",
      "metadata": {
        "id": "mh2Y0HN6OcNB",
        "colab_type": "code",
        "colab": {}
      },
      "source": [
        "import matplotlib.ticker as mticker\n",
        "from mpl_finance import candlestick_ohlc\n",
        "from urllib.request import urlopen\n",
        "import matplotlib.dates as mdates"
      ],
      "execution_count": 171,
      "outputs": []
    },
    {
      "cell_type": "code",
      "metadata": {
        "id": "1W9wXXixubEp",
        "colab_type": "code",
        "colab": {}
      },
      "source": [
        "# [df.columns.values for key, df in data.items()]\n",
        "# [df.iloc[:][\"Close\"].values for key, df in data.items()] #numpy.array()"
      ],
      "execution_count": 172,
      "outputs": []
    },
    {
      "cell_type": "code",
      "metadata": {
        "id": "0uHymFjrtqI4",
        "colab_type": "code",
        "colab": {}
      },
      "source": [
        "def graph_data(stock, dataDict):\n",
        "\n",
        "    fig = plt.figure()\n",
        "    ax1 = plt.subplot2grid((1,1), (0,0))\n",
        "    \n",
        "\n",
        "    timestamp   = dataDict[\"timestamp\"]\n",
        "    date        = dataDict[\"date\"]\n",
        "    closep      = dataDict[\"closep\"]\n",
        "    highp       = dataDict[\"highp\"]\n",
        "    lowp        = dataDict[\"lowp\"]\n",
        "    openp       = dataDict[\"openp\"]\n",
        "    volume      = dataDict[\"volume\"]\n",
        "    adj_closep  = dataDict[\"adj_closep\"]\n",
        "\n",
        "\n",
        "    x = 0\n",
        "    y = len(date)\n",
        "    ohlc = []\n",
        "\n",
        "    while x < y:\n",
        "        append_me = date[x], openp[x], highp[x], lowp[x], closep[x], volume[x]\n",
        "        ohlc.append(append_me)\n",
        "        x+=1\n",
        "\n",
        "\n",
        "    candlestick_ohlc(ax1, ohlc, width=0.4, colorup='#77d879', colordown='#db3f3f')\n",
        "\n",
        "    for label in ax1.xaxis.get_ticklabels():\n",
        "        label.set_rotation(80)\n",
        "\n",
        "    ax1.xaxis.set_major_formatter(mdates.DateFormatter('%Y-%m-%d'))\n",
        "    ax1.xaxis.set_major_locator(mticker.MaxNLocator(10))\n",
        "    ax1.grid(True)\n",
        "\n",
        "    plt.xlabel('Date')\n",
        "    plt.ylabel('Price')\n",
        "    plt.title(stock)\n",
        "    plt.legend()\n",
        "    plt.subplots_adjust(left=0.09, bottom=0.20, right=0.94, top=0.90, wspace=0.2, hspace=0)\n",
        "    plt.show()"
      ],
      "execution_count": 173,
      "outputs": []
    },
    {
      "cell_type": "code",
      "metadata": {
        "id": "Rpg0iCUVe0mu",
        "colab_type": "code",
        "colab": {
          "base_uri": "https://localhost:8080/",
          "height": 707
        },
        "outputId": "4597aa04-62a6-4328-e217-a66a14f5576a"
      },
      "source": [
        "for key, df in data.items():\n",
        "    StoreData = dict()\n",
        "    StoreData[\"timestamp\"]   = df.index.tolist()\n",
        "    StoreData[\"date\"]        = [timestamp[item].toordinal() for item in range(len(timestamp))]\n",
        "    StoreData[\"closep\"]      = df.iloc[:][\"Close\"].values.tolist()\n",
        "    StoreData[\"highp\"]       = df.iloc[:][\"High\"].values.tolist()\n",
        "    StoreData[\"lowp\"]        = df.iloc[:][\"Low\"].values.tolist()\n",
        "    StoreData[\"openp\"]       = df.iloc[:][\"Open\"].values.tolist()\n",
        "    StoreData[\"volume\"]      = df.iloc[:][\"Volume\"].values.tolist()\n",
        "    StoreData[\"adj_closep\"]  = df.iloc[:][\"Adj Close\"].values.tolist()\n",
        "    print(\"Key: \", key)\n",
        "    graph_data(key, StoreData)\n",
        "\n"
      ],
      "execution_count": 174,
      "outputs": [
        {
          "output_type": "stream",
          "text": [
            "No handles with labels found to put in legend.\n"
          ],
          "name": "stderr"
        },
        {
          "output_type": "stream",
          "text": [
            "Key:  KBANK\n"
          ],
          "name": "stdout"
        },
        {
          "output_type": "display_data",
          "data": {
            "image/png": "[encoded data removed]",
            "text/plain": [
              "<Figure size 432x288 with 1 Axes>"
            ]
          },
          "metadata": {
            "tags": [],
            "needs_background": "light"
          }
        },
        {
          "output_type": "stream",
          "text": [
            "No handles with labels found to put in legend.\n"
          ],
          "name": "stderr"
        },
        {
          "output_type": "stream",
          "text": [
            "Key:  AOT\n"
          ],
          "name": "stdout"
        },
        {
          "output_type": "display_data",
          "data": {
            "image/png": "[encoded data removed]",
            "text/plain": [
              "<Figure size 432x288 with 1 Axes>"
            ]
          },
          "metadata": {
            "tags": [],
            "needs_background": "light"
          }
        }
      ]
    },
    {
      "cell_type": "code",
      "metadata": {
        "id": "F_ub-FcNg2_P",
        "colab_type": "code",
        "colab": {}
      },
      "source": [
        ""
      ],
      "execution_count": null,
      "outputs": []
    }
  ]
}