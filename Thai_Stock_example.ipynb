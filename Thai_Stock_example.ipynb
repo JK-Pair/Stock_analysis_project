{
  "nbformat": 4,
  "nbformat_minor": 0,
  "metadata": {
    "colab": {
      "name": "Thai_Stock_example.ipynb",
      "provenance": [],
      "authorship_tag": "ABX9TyOBKg/CadxaIbmD0vxCfLVA",
      "include_colab_link": true
    },
    "kernelspec": {
      "name": "python3",
      "display_name": "Python 3"
    }
  },
  "cells": [
    {
      "cell_type": "markdown",
      "metadata": {
        "id": "view-in-github",
        "colab_type": "text"
      },
      "source": [
        "<a href=\"https://colab.research.google.com/github/JK-Pair/Stock_analysis_project/blob/master/Thai_Stock_example.ipynb\" target=\"_parent\"><img src=\"https://colab.research.google.com/assets/colab-badge.svg\" alt=\"Open In Colab\"/></a>"
      ]
    },
    {
      "cell_type": "code",
      "metadata": {
        "id": "s_-qMp8A9feY",
        "colab_type": "code",
        "colab": {
          "base_uri": "https://localhost:8080/",
          "height": 221
        },
        "outputId": "64609ab6-3fe4-471b-d6bd-ceea4253ae20"
      },
      "source": [
        "!pip install pandas_datareader"
      ],
      "execution_count": 2,
      "outputs": [
        {
          "output_type": "stream",
          "text": [
            "Requirement already satisfied: pandas_datareader in /usr/local/lib/python3.6/dist-packages (0.8.1)\n",
            "Requirement already satisfied: pandas>=0.21 in /usr/local/lib/python3.6/dist-packages (from pandas_datareader) (1.0.4)\n",
            "Requirement already satisfied: lxml in /usr/local/lib/python3.6/dist-packages (from pandas_datareader) (4.2.6)\n",
            "Requirement already satisfied: requests>=2.3.0 in /usr/local/lib/python3.6/dist-packages (from pandas_datareader) (2.23.0)\n",
            "Requirement already satisfied: pytz>=2017.2 in /usr/local/lib/python3.6/dist-packages (from pandas>=0.21->pandas_datareader) (2018.9)\n",
            "Requirement already satisfied: python-dateutil>=2.6.1 in /usr/local/lib/python3.6/dist-packages (from pandas>=0.21->pandas_datareader) (2.8.1)\n",
            "Requirement already satisfied: numpy>=1.13.3 in /usr/local/lib/python3.6/dist-packages (from pandas>=0.21->pandas_datareader) (1.18.5)\n",
            "Requirement already satisfied: certifi>=2017.4.17 in /usr/local/lib/python3.6/dist-packages (from requests>=2.3.0->pandas_datareader) (2020.4.5.2)\n",
            "Requirement already satisfied: urllib3!=1.25.0,!=1.25.1,<1.26,>=1.21.1 in /usr/local/lib/python3.6/dist-packages (from requests>=2.3.0->pandas_datareader) (1.24.3)\n",
            "Requirement already satisfied: chardet<4,>=3.0.2 in /usr/local/lib/python3.6/dist-packages (from requests>=2.3.0->pandas_datareader) (3.0.4)\n",
            "Requirement already satisfied: idna<3,>=2.5 in /usr/local/lib/python3.6/dist-packages (from requests>=2.3.0->pandas_datareader) (2.9)\n",
            "Requirement already satisfied: six>=1.5 in /usr/local/lib/python3.6/dist-packages (from python-dateutil>=2.6.1->pandas>=0.21->pandas_datareader) (1.12.0)\n"
          ],
          "name": "stdout"
        }
      ]
    },
    {
      "cell_type": "code",
      "metadata": {
        "id": "xY9WDd5zA92T",
        "colab_type": "code",
        "colab": {
          "base_uri": "https://localhost:8080/",
          "height": 51
        },
        "outputId": "a0e19364-1150-42c6-b496-6b4b04de368f"
      },
      "source": [
        "import os, sys\n",
        "import numpy as np\n",
        "import pandas as pd\n",
        "#pd.core.common.is_list_like = pd.api.types.is_list_like\n",
        "\n",
        "from pandas_datareader import data as pdr\n",
        "from tqdm import tqdm, trange\n",
        "\n",
        "import matplotlib.pyplot as plt\n",
        "import pandas as pd\n",
        "from IPython.core.display import display, HTML\n",
        "from datetime import date\n",
        "\n",
        "display(HTML(\"<style>.container { width:90% !important; }</style>\"))\n",
        "pd.options.display.max_columns = 999\n",
        "pd.options.display.max_rows = 999"
      ],
      "execution_count": 1,
      "outputs": [
        {
          "output_type": "stream",
          "text": [
            "/usr/local/lib/python3.6/dist-packages/pandas_datareader/compat/__init__.py:7: FutureWarning: pandas.util.testing is deprecated. Use the functions in the public API at pandas.testing instead.\n",
            "  from pandas.util.testing import assert_frame_equal\n"
          ],
          "name": "stderr"
        },
        {
          "output_type": "display_data",
          "data": {
            "text/html": [
              "<style>.container { width:90% !important; }</style>"
            ],
            "text/plain": [
              "<IPython.core.display.HTML object>"
            ]
          },
          "metadata": {
            "tags": []
          }
        }
      ]
    },
    {
      "cell_type": "code",
      "metadata": {
        "id": "67oJOnJ-Dc8C",
        "colab_type": "code",
        "colab": {}
      },
      "source": [
        "stock_list =  ['KBANK', 'AOT'] # \"AOT\", \"ICHI\", \"CPALL\", \"CPF\", \"ASIMAR\", \"AAV\", \"AU\", 'SCB', 'BBL', 'KTB', 'AOT', 'PTT'\n",
        "start_date = \"2020-03-19\" \n",
        "end_date = \"2020-06-19\" \n",
        "# end_date = date.today().strftime(\"%Y-%m-%d\")"
      ],
      "execution_count": 137,
      "outputs": []
    },
    {
      "cell_type": "code",
      "metadata": {
        "id": "mwavqq1kDpHz",
        "colab_type": "code",
        "colab": {
          "base_uri": "https://localhost:8080/",
          "height": 34
        },
        "outputId": "c6bc559b-48dd-4c30-cc77-ad47d683ed02"
      },
      "source": [
        "data = {}\n",
        "for quote in tqdm(stock_list):\n",
        "    try:        \n",
        "        data[quote] = pdr.get_data_yahoo('{}.BK'.format(quote), start=start_date, end=end_date)        \n",
        "    except:\n",
        "        print(\"Error:\", sys.exc_info()[0])\n",
        "        print(\"Description:\", sys.exc_info()[1]) \n",
        "# Cloumns head = High, Low, Open, Close, Volume, Adj Close"
      ],
      "execution_count": 138,
      "outputs": [
        {
          "output_type": "stream",
          "text": [
            "100%|██████████| 2/2 [00:01<00:00,  1.61it/s]\n"
          ],
          "name": "stderr"
        }
      ]
    },
    {
      "cell_type": "code",
      "metadata": {
        "id": "gDC45ObEDr8l",
        "colab_type": "code",
        "colab": {
          "base_uri": "https://localhost:8080/",
          "height": 442
        },
        "outputId": "322de97e-b2c5-4279-dd5e-dc5b852be4a2"
      },
      "source": [
        "print(\"Show all stocks in the list\", list(data.keys()))\n",
        "[df.head(10) for key, df in data.items()]"
      ],
      "execution_count": 139,
      "outputs": [
        {
          "output_type": "stream",
          "text": [
            "Show all stocks in the list ['KBANK', 'AOT']\n"
          ],
          "name": "stdout"
        },
        {
          "output_type": "execute_result",
          "data": {
            "text/plain": [
              "[             High    Low   Open  Close      Volume  Adj Close\n",
              " Date                                                         \n",
              " 2020-03-19  88.00  86.00  86.75  86.50  15540200.0  82.607498\n",
              " 2020-03-20  94.75  87.50  90.00  93.00  15805400.0  88.814995\n",
              " 2020-03-23  84.50  79.25  82.00  79.25  17947300.0  75.683746\n",
              " 2020-03-24  83.00  79.00  82.50  79.00  17142300.0  75.445000\n",
              " 2020-03-25  82.75  79.75  81.50  81.50  15671700.0  77.832497\n",
              " 2020-03-26  85.75  80.50  80.50  84.00  19245800.0  80.220001\n",
              " 2020-03-27  93.50  86.75  87.00  89.25  28582200.0  85.233749\n",
              " 2020-03-30  85.00  85.00  85.00  85.00   1562500.0  81.174995\n",
              " 2020-03-31  92.25  87.50  88.00  91.50  18809300.0  87.382500\n",
              " 2020-04-01  91.75  88.25  90.75  88.25  14474100.0  84.278748,\n",
              "              High    Low   Open  Close    Volume  Adj Close\n",
              " Date                                                       \n",
              " 2020-03-19  48.00  45.25  46.75  47.00  53845000      47.00\n",
              " 2020-03-20  53.75  49.00  49.50  53.75  68263200      53.75\n",
              " 2020-03-23  50.00  47.00  48.25  47.25  53805200      47.25\n",
              " 2020-03-24  50.75  46.50  50.00  48.00  65675600      48.00\n",
              " 2020-03-25  51.50  49.00  49.75  50.25  51101100      50.25\n",
              " 2020-03-26  51.00  49.75  49.75  50.75  32934700      50.75\n",
              " 2020-03-27  52.50  50.00  52.50  50.50  36509500      50.50\n",
              " 2020-03-30  50.25  49.00  50.00  49.75  32353800      49.75\n",
              " 2020-03-31  51.50  50.25  51.00  50.75  36759400      50.75\n",
              " 2020-04-01  51.00  49.25  50.00  49.50  41862500      49.50]"
            ]
          },
          "metadata": {
            "tags": []
          },
          "execution_count": 139
        }
      ]
    },
    {
      "cell_type": "code",
      "metadata": {
        "id": "do6OLVxoEH79",
        "colab_type": "code",
        "colab": {
          "base_uri": "https://localhost:8080/",
          "height": 602
        },
        "outputId": "1d286ca5-d585-4193-b4c4-4425204d50f5"
      },
      "source": [
        "[ df.plot(y='Adj Close', label='Price', style='-b').set_title(key)  for key, df in data.items()]"
      ],
      "execution_count": 140,
      "outputs": [
        {
          "output_type": "execute_result",
          "data": {
            "text/plain": [
              "[Text(0.5, 1.0, 'KBANK'), Text(0.5, 1.0, 'AOT')]"
            ]
          },
          "metadata": {
            "tags": []
          },
          "execution_count": 140
        },
        {
          "output_type": "display_data",
          "data": {
            "image/png": "[encoded data removed]",
            "text/plain": [
              "<Figure size 432x288 with 1 Axes>"
            ]
          },
          "metadata": {
            "tags": [],
            "needs_background": "light"
          }
        },
        {
          "output_type": "display_data",
          "data": {
            "image/png": "[encoded data removed]",
            "text/plain": [
              "<Figure size 432x288 with 1 Axes>"
            ]
          },
          "metadata": {
            "tags": [],
            "needs_background": "light"
          }
        }
      ]
    },
    {
      "cell_type": "code",
      "metadata": {
        "id": "6GNQq2v8ZoqE",
        "colab_type": "code",
        "colab": {
          "base_uri": "https://localhost:8080/",
          "height": 272
        },
        "outputId": "609cdcf1-c92c-4592-da22-9e386532a87a"
      },
      "source": [
        "!pip install https://github.com/matplotlib/mpl_finance/archive/master.zip"
      ],
      "execution_count": 141,
      "outputs": [
        {
          "output_type": "stream",
          "text": [
            "Collecting https://github.com/matplotlib/mpl_finance/archive/master.zip\n",
            "  Using cached https://github.com/matplotlib/mpl_finance/archive/master.zip\n",
            "Requirement already satisfied (use --upgrade to upgrade): mpl-finance==0.10.1 from https://github.com/matplotlib/mpl_finance/archive/master.zip in /usr/local/lib/python3.6/dist-packages\n",
            "Requirement already satisfied: matplotlib in /usr/local/lib/python3.6/dist-packages (from mpl-finance==0.10.1) (3.2.1)\n",
            "Requirement already satisfied: numpy>=1.11 in /usr/local/lib/python3.6/dist-packages (from matplotlib->mpl-finance==0.10.1) (1.18.5)\n",
            "Requirement already satisfied: kiwisolver>=1.0.1 in /usr/local/lib/python3.6/dist-packages (from matplotlib->mpl-finance==0.10.1) (1.2.0)\n",
            "Requirement already satisfied: cycler>=0.10 in /usr/local/lib/python3.6/dist-packages (from matplotlib->mpl-finance==0.10.1) (0.10.0)\n",
            "Requirement already satisfied: python-dateutil>=2.1 in /usr/local/lib/python3.6/dist-packages (from matplotlib->mpl-finance==0.10.1) (2.8.1)\n",
            "Requirement already satisfied: pyparsing!=2.0.4,!=2.1.2,!=2.1.6,>=2.0.1 in /usr/local/lib/python3.6/dist-packages (from matplotlib->mpl-finance==0.10.1) (2.4.7)\n",
            "Requirement already satisfied: six in /usr/local/lib/python3.6/dist-packages (from cycler>=0.10->matplotlib->mpl-finance==0.10.1) (1.12.0)\n",
            "Building wheels for collected packages: mpl-finance\n",
            "  Building wheel for mpl-finance (setup.py) ... \u001b[?25l\u001b[?25hdone\n",
            "  Created wheel for mpl-finance: filename=mpl_finance-0.10.1-cp36-none-any.whl size=8423 sha256=74859cb6407a6c26c9608b91ac07a78ee0eb554dbe504abdb5f602758587adf6\n",
            "  Stored in directory: /tmp/pip-ephem-wheel-cache-oypbseld/wheels/8f/bf/8a/6c858b2a3be945c7b2d658fbf6ab797b451d686cbee8aa2679\n",
            "Successfully built mpl-finance\n"
          ],
          "name": "stdout"
        }
      ]
    },
    {
      "cell_type": "code",
      "metadata": {
        "id": "mh2Y0HN6OcNB",
        "colab_type": "code",
        "colab": {}
      },
      "source": [
        "import matplotlib.ticker as mticker\n",
        "from mpl_finance import candlestick_ohlc\n",
        "from urllib.request import urlopen\n",
        "import matplotlib.dates as mdates"
      ],
      "execution_count": 142,
      "outputs": []
    },
    {
      "cell_type": "code",
      "metadata": {
        "id": "ALGxCM7Y0kKV",
        "colab_type": "code",
        "colab": {}
      },
      "source": [
        "# [df.columns.values for key, df in data.items()]\n",
        "# [df.iloc[:][\"Close\"].values for key, df in data.items()] #numpy.array()"
      ],
      "execution_count": 143,
      "outputs": []
    },
    {
      "cell_type": "code",
      "metadata": {
        "id": "0uHymFjrtqI4",
        "colab_type": "code",
        "colab": {
          "base_uri": "https://localhost:8080/",
          "height": 673
        },
        "outputId": "aa40f149-d99a-4b6b-fc18-617157e36056"
      },
      "source": [
        "def graph_data(stock):\n",
        "\n",
        "    fig = plt.figure()\n",
        "    ax1 = plt.subplot2grid((1,1), (0,0))\n",
        "    \n",
        "    for key, df in data.items():\n",
        "        timestamp   = df.index.tolist()\n",
        "        date        = [timestamp[item].toordinal() for item in range(len(timestamp))]\n",
        "        closep      = df.iloc[:][\"Close\"].values.tolist()\n",
        "        highp       = df.iloc[:][\"High\"].values.tolist()\n",
        "        lowp        = df.iloc[:][\"Low\"].values.tolist()\n",
        "        openp       = df.iloc[:][\"Open\"].values.tolist()\n",
        "        volume      = df.iloc[:][\"Volume\"].values.tolist()\n",
        "        adj_closep  = df.iloc[:][\"Adj Close\"].values.tolist()\n",
        "\n",
        "\n",
        "    x = 0\n",
        "    y = len(date)\n",
        "    ohlc = []\n",
        "\n",
        "    while x < y:\n",
        "        append_me = date[x], openp[x], highp[x], lowp[x], closep[x], volume[x]\n",
        "        ohlc.append(append_me)\n",
        "        x+=1\n",
        "\n",
        "\n",
        "    candlestick_ohlc(ax1, ohlc, width=0.4, colorup='#77d879', colordown='#db3f3f')\n",
        "\n",
        "    for label in ax1.xaxis.get_ticklabels():\n",
        "        label.set_rotation(80)\n",
        "\n",
        "    ax1.xaxis.set_major_formatter(mdates.DateFormatter('%Y-%m-%d'))\n",
        "    ax1.xaxis.set_major_locator(mticker.MaxNLocator(10))\n",
        "    ax1.grid(True)\n",
        "    \n",
        "\n",
        "    plt.xlabel('Date')\n",
        "    plt.ylabel('Price')\n",
        "    plt.title(stock)\n",
        "    plt.legend()\n",
        "    plt.subplots_adjust(left=0.09, bottom=0.20, right=0.94, top=0.90, wspace=0.2, hspace=0)\n",
        "    plt.show()\n",
        "\n",
        "\n",
        "for stock in data.keys():\n",
        "  graph_data(stock)"
      ],
      "execution_count": 146,
      "outputs": [
        {
          "output_type": "stream",
          "text": [
            "No handles with labels found to put in legend.\n"
          ],
          "name": "stderr"
        },
        {
          "output_type": "display_data",
          "data": {
            "image/png": "[encoded data removed]",
            "text/plain": [
              "<Figure size 432x288 with 1 Axes>"
            ]
          },
          "metadata": {
            "tags": [],
            "needs_background": "light"
          }
        },
        {
          "output_type": "stream",
          "text": [
            "No handles with labels found to put in legend.\n"
          ],
          "name": "stderr"
        },
        {
          "output_type": "display_data",
          "data": {
            "image/png": "[encoded data removed]",
            "text/plain": [
              "<Figure size 432x288 with 1 Axes>"
            ]
          },
          "metadata": {
            "tags": [],
            "needs_background": "light"
          }
        }
      ]
    },
    {
      "cell_type": "code",
      "metadata": {
        "id": "-IqeVdotIc61",
        "colab_type": "code",
        "colab": {}
      },
      "source": [
        ""
      ],
      "execution_count": null,
      "outputs": []
    }
  ]
}