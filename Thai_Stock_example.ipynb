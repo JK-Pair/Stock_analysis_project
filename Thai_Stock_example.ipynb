{
  "nbformat": 4,
  "nbformat_minor": 0,
  "metadata": {
    "colab": {
      "name": "Thai_Stock_example.ipynb",
      "provenance": [],
      "authorship_tag": "ABX9TyOteIPHBHWy/qXm3xNex+UC",
      "include_colab_link": true
    },
    "kernelspec": {
      "name": "python3",
      "display_name": "Python 3"
    }
  },
  "cells": [
    {
      "cell_type": "markdown",
      "metadata": {
        "id": "view-in-github",
        "colab_type": "text"
      },
      "source": [
        "<a href=\"https://colab.research.google.com/github/JK-Pair/Stock_analysis_project/blob/master/Thai_Stock_example.ipynb\" target=\"_parent\"><img src=\"https://colab.research.google.com/assets/colab-badge.svg\" alt=\"Open In Colab\"/></a>"
      ]
    },
    {
      "cell_type": "code",
      "metadata": {
        "id": "s_-qMp8A9feY",
        "colab_type": "code",
        "colab": {
          "base_uri": "https://localhost:8080/",
          "height": 218
        },
        "outputId": "9cd23964-6b72-4170-fed0-df2ff70daa50"
      },
      "source": [
        "!pip install pandas_datareader"
      ],
      "execution_count": 1,
      "outputs": [
        {
          "output_type": "stream",
          "text": [
            "Requirement already satisfied: pandas_datareader in /usr/local/lib/python3.6/dist-packages (0.8.1)\n",
            "Requirement already satisfied: requests>=2.3.0 in /usr/local/lib/python3.6/dist-packages (from pandas_datareader) (2.23.0)\n",
            "Requirement already satisfied: pandas>=0.21 in /usr/local/lib/python3.6/dist-packages (from pandas_datareader) (1.0.4)\n",
            "Requirement already satisfied: lxml in /usr/local/lib/python3.6/dist-packages (from pandas_datareader) (4.2.6)\n",
            "Requirement already satisfied: idna<3,>=2.5 in /usr/local/lib/python3.6/dist-packages (from requests>=2.3.0->pandas_datareader) (2.9)\n",
            "Requirement already satisfied: urllib3!=1.25.0,!=1.25.1,<1.26,>=1.21.1 in /usr/local/lib/python3.6/dist-packages (from requests>=2.3.0->pandas_datareader) (1.24.3)\n",
            "Requirement already satisfied: certifi>=2017.4.17 in /usr/local/lib/python3.6/dist-packages (from requests>=2.3.0->pandas_datareader) (2020.4.5.2)\n",
            "Requirement already satisfied: chardet<4,>=3.0.2 in /usr/local/lib/python3.6/dist-packages (from requests>=2.3.0->pandas_datareader) (3.0.4)\n",
            "Requirement already satisfied: python-dateutil>=2.6.1 in /usr/local/lib/python3.6/dist-packages (from pandas>=0.21->pandas_datareader) (2.8.1)\n",
            "Requirement already satisfied: pytz>=2017.2 in /usr/local/lib/python3.6/dist-packages (from pandas>=0.21->pandas_datareader) (2018.9)\n",
            "Requirement already satisfied: numpy>=1.13.3 in /usr/local/lib/python3.6/dist-packages (from pandas>=0.21->pandas_datareader) (1.18.5)\n",
            "Requirement already satisfied: six>=1.5 in /usr/local/lib/python3.6/dist-packages (from python-dateutil>=2.6.1->pandas>=0.21->pandas_datareader) (1.12.0)\n"
          ],
          "name": "stdout"
        }
      ]
    },
    {
      "cell_type": "code",
      "metadata": {
        "id": "xY9WDd5zA92T",
        "colab_type": "code",
        "colab": {
          "base_uri": "https://localhost:8080/",
          "height": 70
        },
        "outputId": "2a2126a0-b133-42b0-fb3a-3fd42dffcff0"
      },
      "source": [
        "import os, sys\n",
        "import numpy as np\n",
        "import pandas as pd\n",
        "#pd.core.common.is_list_like = pd.api.types.is_list_like\n",
        "\n",
        "from pandas_datareader import data as pdr\n",
        "from tqdm import tqdm, trange\n",
        "\n",
        "import matplotlib.pyplot as plt\n",
        "import pandas as pd\n",
        "from IPython.core.display import display, HTML\n",
        "from datetime import date\n",
        "\n",
        "display(HTML(\"<style>.container { width:90% !important; }</style>\"))\n",
        "pd.options.display.max_columns = 999\n",
        "pd.options.display.max_rows = 999"
      ],
      "execution_count": 6,
      "outputs": [
        {
          "output_type": "stream",
          "text": [
            "/usr/local/lib/python3.6/dist-packages/pandas_datareader/compat/__init__.py:7: FutureWarning: pandas.util.testing is deprecated. Use the functions in the public API at pandas.testing instead.\n",
            "  from pandas.util.testing import assert_frame_equal\n"
          ],
          "name": "stderr"
        },
        {
          "output_type": "display_data",
          "data": {
            "text/html": [
              "<style>.container { width:90% !important; }</style>"
            ],
            "text/plain": [
              "<IPython.core.display.HTML object>"
            ]
          },
          "metadata": {
            "tags": []
          }
        }
      ]
    },
    {
      "cell_type": "code",
      "metadata": {
        "id": "67oJOnJ-Dc8C",
        "colab_type": "code",
        "colab": {}
      },
      "source": [
        "stock_list =  ['KBANK'] # \"AOT\", \"ICHI\", \"CPALL\", \"CPF\", \"ASIMAR\", \"AAV\", \"AU\", 'SCB', 'BBL', 'KTB', 'AOT', 'PTT'\n",
        "start_date = \"2020-05-19\" \n",
        "end_date = date.today().strftime(\"%Y-%m-%d\")"
      ],
      "execution_count": 7,
      "outputs": []
    },
    {
      "cell_type": "code",
      "metadata": {
        "id": "mwavqq1kDpHz",
        "colab_type": "code",
        "colab": {
          "base_uri": "https://localhost:8080/",
          "height": 34
        },
        "outputId": "84594aca-225a-47af-e222-374c9ed71bc9"
      },
      "source": [
        "data = {}\n",
        "for quote in tqdm(stock_list):\n",
        "    try:        \n",
        "        data[quote] = pdr.get_data_yahoo('{}.BK'.format(quote), start=start_date, end=end_date)        \n",
        "    except:\n",
        "        print(\"Error:\", sys.exc_info()[0])\n",
        "        print(\"Description:\", sys.exc_info()[1]) "
      ],
      "execution_count": 8,
      "outputs": [
        {
          "output_type": "stream",
          "text": [
            "100%|██████████| 1/1 [00:00<00:00,  1.49it/s]\n"
          ],
          "name": "stderr"
        }
      ]
    },
    {
      "cell_type": "code",
      "metadata": {
        "id": "gDC45ObEDr8l",
        "colab_type": "code",
        "colab": {
          "base_uri": "https://localhost:8080/",
          "height": 151
        },
        "outputId": "080a2503-d154-41ba-a78f-19a2d0aac26f"
      },
      "source": [
        "print(\"Show all stocks in the list\", list(data.keys()))\n",
        "[ df.head() for key, df in data.items()]"
      ],
      "execution_count": 9,
      "outputs": [
        {
          "output_type": "stream",
          "text": [
            "Show all stocks in the list ['KBANK']\n"
          ],
          "name": "stdout"
        },
        {
          "output_type": "execute_result",
          "data": {
            "text/plain": [
              "[             High    Low   Open  Close    Volume  Adj Close\n",
              " Date                                                       \n",
              " 2020-05-19  87.75  84.00  84.25  87.00  26622000      87.00\n",
              " 2020-05-20  88.50  87.00  88.00  88.00  16666600      88.00\n",
              " 2020-05-21  88.50  86.75  88.50  87.25  12975400      87.25\n",
              " 2020-05-22  86.75  84.75  86.75  85.50  12036200      85.50\n",
              " 2020-05-25  87.50  86.00  86.00  87.00   5999300      87.00]"
            ]
          },
          "metadata": {
            "tags": []
          },
          "execution_count": 9
        }
      ]
    },
    {
      "cell_type": "code",
      "metadata": {
        "id": "do6OLVxoEH79",
        "colab_type": "code",
        "colab": {
          "base_uri": "https://localhost:8080/",
          "height": 318
        },
        "outputId": "9ff024cd-5548-491d-ea23-fd0e96339a71"
      },
      "source": [
        "[ df.plot(y='Adj Close', label='Price', style='-b').set_title(key)  for key, df in data.items()]"
      ],
      "execution_count": 10,
      "outputs": [
        {
          "output_type": "execute_result",
          "data": {
            "text/plain": [
              "[Text(0.5, 1.0, 'KBANK')]"
            ]
          },
          "metadata": {
            "tags": []
          },
          "execution_count": 10
        },
        {
          "output_type": "display_data",
          "data": {
            "image/png": "[encoded data removed]",
            "text/plain": [
              "<Figure size 432x288 with 1 Axes>"
            ]
          },
          "metadata": {
            "tags": [],
            "needs_background": "light"
          }
        }
      ]
    },
    {
      "cell_type": "code",
      "metadata": {
        "id": "6GNQq2v8ZoqE",
        "colab_type": "code",
        "colab": {
          "base_uri": "https://localhost:8080/",
          "height": 302
        },
        "outputId": "e43529c0-d5b9-41e0-826c-d9be8ef46c11"
      },
      "source": [
        "!pip install https://github.com/matplotlib/mpl_finance/archive/master.zip"
      ],
      "execution_count": 3,
      "outputs": [
        {
          "output_type": "stream",
          "text": [
            "Collecting https://github.com/matplotlib/mpl_finance/archive/master.zip\n",
            "\u001b[?25l  Downloading https://github.com/matplotlib/mpl_finance/archive/master.zip\n",
            "\u001b[K     / 614kB 563kB/s\n",
            "\u001b[?25hRequirement already satisfied: matplotlib in /usr/local/lib/python3.6/dist-packages (from mpl-finance==0.10.1) (3.2.1)\n",
            "Requirement already satisfied: python-dateutil>=2.1 in /usr/local/lib/python3.6/dist-packages (from matplotlib->mpl-finance==0.10.1) (2.8.1)\n",
            "Requirement already satisfied: numpy>=1.11 in /usr/local/lib/python3.6/dist-packages (from matplotlib->mpl-finance==0.10.1) (1.18.5)\n",
            "Requirement already satisfied: pyparsing!=2.0.4,!=2.1.2,!=2.1.6,>=2.0.1 in /usr/local/lib/python3.6/dist-packages (from matplotlib->mpl-finance==0.10.1) (2.4.7)\n",
            "Requirement already satisfied: cycler>=0.10 in /usr/local/lib/python3.6/dist-packages (from matplotlib->mpl-finance==0.10.1) (0.10.0)\n",
            "Requirement already satisfied: kiwisolver>=1.0.1 in /usr/local/lib/python3.6/dist-packages (from matplotlib->mpl-finance==0.10.1) (1.2.0)\n",
            "Requirement already satisfied: six>=1.5 in /usr/local/lib/python3.6/dist-packages (from python-dateutil>=2.1->matplotlib->mpl-finance==0.10.1) (1.12.0)\n",
            "Building wheels for collected packages: mpl-finance\n",
            "  Building wheel for mpl-finance (setup.py) ... \u001b[?25l\u001b[?25hdone\n",
            "  Created wheel for mpl-finance: filename=mpl_finance-0.10.1-cp36-none-any.whl size=8423 sha256=bbc18ca3e8fbbfce088d31df69ab952b32b893556564c01bcbf09ccbef468c21\n",
            "  Stored in directory: /tmp/pip-ephem-wheel-cache-0bs6cs58/wheels/8f/bf/8a/6c858b2a3be945c7b2d658fbf6ab797b451d686cbee8aa2679\n",
            "Successfully built mpl-finance\n",
            "Installing collected packages: mpl-finance\n",
            "Successfully installed mpl-finance-0.10.1\n"
          ],
          "name": "stdout"
        }
      ]
    },
    {
      "cell_type": "code",
      "metadata": {
        "id": "ab15ckGdZAqm",
        "colab_type": "code",
        "colab": {}
      },
      "source": [
        "from mpl_finance import candlestick_ohlc\n",
        "import matplotlib.pyplot as plt\n",
        "import matplotlib.ticker as ticker\n",
        "from matplotlib.dates import num2date, date2num\n",
        "import numpy as np\n",
        "import matplotlib.dates\n",
        "import pandas\n",
        "\n",
        "dates= pd.date_range(start_date, end_date).tolist()\n",
        "datesList = []\n",
        "datesList = [dates[item].toordinal() for item in range(len(dates))]\n",
        "\n",
        "# dates = [732797.0, 732828.0, 732858.0, 732889.0, 732920.0, 732950.0, 732981.0, 733011.0, 733042.0, 733073.0, 733102.0, 733133.0, 733163.0, 733194.0, 733224.0, 733255.0, 733286.0, 733316.0, 733347.0, 733377.0, 733408.0, 733439.0, 733467.0, 733498.0, 733528.0, 733559.0, 733589.0, 733620.0, 733651.0, 733681.0, 733712.0, 733742.0] \n",
        "kurse_o = [60.0, 68.15, 68.08, 65.01, 66.1, 70.59, 75.69, 69.12, 66.25, 53.15, 54.61, 70.36, 66.14, 78.08, 85.1, 75.26, 64.23, 62.89, 66.9, 61.15, 61.36, 53.93, 61.4, 62.29, 62.85, 65.26, 62.4, 70.18, 70.25, 69.2, 69.55, 68.51]\n",
        "kurse_h = [68.49, 69.66, 71.0, 67.2, 71.14, 78.85, 76.64, 71.6, 66.61, 57.81, 56.07, 76.72, 79.89, 84.73, 85.5, 75.26, 65.86, 68.52, 66.95, 62.1, 61.41, 62.49, 63.8, 64.59, 66.5, 66.36, 71.4, 73.23, 70.94, 73.0, 69.68, 69.29]\n",
        "kurse_l = [57.91, 63.53, 63.28, 57.75, 63.55, 70.43, 63.2, 63.88, 46.65, 49.52, 50.51, 62.06, 62.91, 75.1, 72.48, 62.73, 57.01, 62.36, 58.9, 56.19, 52.0, 50.83, 58.01, 60.14, 62.7, 60.02, 61.61, 68.44, 66.13, 68.91, 64.96, 67.05]\n",
        "kurse_c = [68.15, 68.59, 66.89, 65.18, 70.64, 75.95, 69.55, 66.5, 52.19, 55.79, 54.15, 64.85, 78.97, 84.73, 77.58, 64.16, 63.1, 67.37, 60.69, 61.39, 53.52, 60.82, 62.08, 62.71, 64.91, 62.76, 70.72, 69.35, 68.64, 69.2, 68.4, 69.07]\n",
        "\n",
        "\n",
        "quotes = [tuple([datesList[i],\n",
        "                 kurse_o[i],\n",
        "                 kurse_h[i],\n",
        "                 kurse_l[i],\n",
        "                 kurse_c[i]]) for i in range(len(dates))] #_1\n",
        "\n"
      ],
      "execution_count": 26,
      "outputs": []
    },
    {
      "cell_type": "code",
      "metadata": {
        "id": "OsEt0STPkqh8",
        "colab_type": "code",
        "colab": {
          "base_uri": "https://localhost:8080/",
          "height": 301
        },
        "outputId": "8f904c81-2f21-4927-9d47-140755b77a31"
      },
      "source": [
        "fig, (ax,ax2) = plt.subplots(1,2, sharey=True)\n",
        "\n",
        "candlestick_ohlc(ax, quotes, width=0.6)\n",
        "candlestick_ohlc(ax2, quotes, width=0.6)\n",
        "\n",
        "# ---------------------------------------------------------\n",
        "\n",
        "sma = [[kurse_c[i] * 0.8] for i in range(len(dates))]\n",
        "data = pandas.DataFrame(sma, index=dates, columns=[\"sma\"]) #_2\n",
        "# data = data.astype(float)\n",
        "\n",
        "data[\"sma\"].plot(ax=ax)\n",
        "\n",
        "# ---------------------------------------------------------\n",
        "\n",
        "fig.autofmt_xdate()\n",
        "fig.tight_layout()\n",
        "\n",
        "ax.set_ylim(0,100)\n",
        "ax2.set_ylim(0,100)\n",
        "\n",
        "axlim = ax.get_xlim()\n",
        "ax.set_xlim(axlim)\n",
        "ax2.set_xlim(axlim)\n",
        "\n",
        "ax.xaxis.set_major_formatter(matplotlib.dates.DateFormatter('%Y-%m-%d'))\n",
        "ax.grid(True)\n",
        "\n",
        "ax2.xaxis.set_major_formatter(matplotlib.dates.DateFormatter('%Y-%m-%d'))\n",
        "ax2.grid(True)"
      ],
      "execution_count": 27,
      "outputs": [
        {
          "output_type": "display_data",
          "data": {
            "image/png": "[encoded data removed]",
            "text/plain": [
              "<Figure size 432x288 with 2 Axes>"
            ]
          },
          "metadata": {
            "tags": [],
            "needs_background": "light"
          }
        }
      ]
    },
    {
      "cell_type": "code",
      "metadata": {
        "id": "I9RQguYsr7U4",
        "colab_type": "code",
        "colab": {}
      },
      "source": [
        ""
      ],
      "execution_count": null,
      "outputs": []
    }
  ]
}